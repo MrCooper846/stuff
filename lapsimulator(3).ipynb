{
 "cells": [
  {
   "cell_type": "markdown",
   "metadata": {
    "deletable": false,
    "editable": false,
    "nbgrader": {
     "cell_type": "markdown",
     "checksum": "34d717a47dc9080e0f850d18b3244a78",
     "grade": false,
     "grade_id": "cell-22a4bc91ec8f0159",
     "locked": true,
     "schema_version": 3,
     "solution": false,
     "task": false
    }
   },
   "source": [
    "# Highfield Street Circuit lap time simulation\n",
    "\n",
    "This Jupyter notebook is one of the two notebooks that you have to complete and submit as part of the FEEG1001 Summative Design Assessment. You should first complete this notebook and then work on the `optfoil.ipynb` notebook.\n",
    "\n",
    "__NOTE: You will have to use the classical Jupyter Notebook interface, rather than the newer Jupyter Lab, for this assessment to work properly.__\n",
    "\n",
    "Similar to the labs, this notebook has some sections that have been completed for you already, while in some other cells you will have to write some code. There are four tasks in total in this notebook, with step-to-step guidance. There are some checks to make sure your code works properly. \n",
    "\n",
    "Note also that this notebook is a little bit different from other notebooks, as there are some cells that are read-only and can't be modified. You'll have to write your solution in special cells containing the statements\n",
    "\n",
    "    # YOUR CODE HERE\n",
    "    raise NotImplementedError\n",
    "    # END YOUR CODE HERE\n",
    "    \n",
    "replacing this with your own code."
   ]
  },
  {
   "cell_type": "markdown",
   "metadata": {
    "deletable": false,
    "editable": false,
    "nbgrader": {
     "cell_type": "markdown",
     "checksum": "8dd36264652528e2c0f07558a8dd4484",
     "grade": false,
     "grade_id": "cell-22a4bc91ec8f0259",
     "locked": true,
     "schema_version": 3,
     "solution": false,
     "task": false
    }
   },
   "source": [
    "## Problem specification\n",
    "\n",
    "In this notebook, we are considering your race car going around the Highfield Street Circuit. We have developed a simple computational model that estimates the lap time given the quantities $C_LA$ and $C_DA$, i.e. the wing's lift and drag force coefficients multiplied by the reference planform area.\n",
    "\n",
    "The lap time simulator is given by the python function `simulator` available in the python source file `lapsim.py`. You will need to download `lapsim.py` from Blackboard and save this file in the same folder with this notebook."
   ]
  },
  {
   "cell_type": "markdown",
   "metadata": {
    "deletable": false,
    "editable": false,
    "nbgrader": {
     "cell_type": "markdown",
     "checksum": "621d95dd13edf6d9cd5f077b06d06afc",
     "grade": false,
     "grade_id": "cell-3acb0740b8de411f",
     "locked": true,
     "schema_version": 3,
     "solution": false,
     "task": false
    }
   },
   "source": [
    "We first import numpy and matplotlib, with plots inline within the notebook."
   ]
  },
  {
   "cell_type": "code",
   "execution_count": null,
   "metadata": {
    "deletable": false,
    "editable": false,
    "nbgrader": {
     "cell_type": "code",
     "checksum": "23aecaa8919ac16d1d461ba91c75a9a8",
     "grade": false,
     "grade_id": "cell-c44d4508c3f92d74",
     "locked": true,
     "schema_version": 3,
     "solution": false,
     "task": false
    }
   },
   "outputs": [],
   "source": [
    "# THIS CELL AND OTHER BELOW ARE SPECIAL AND CANNOT BE EDITED\n",
    "\n",
    "import numpy as np\n",
    "import matplotlib.pyplot as plt\n",
    "\n",
    "%matplotlib inline"
   ]
  },
  {
   "cell_type": "markdown",
   "metadata": {
    "deletable": false,
    "editable": false,
    "nbgrader": {
     "cell_type": "markdown",
     "checksum": "cee8b29f6bdc41ddff0ff320be7ea2b3",
     "grade": false,
     "grade_id": "cell-1555ad7b7214912e",
     "locked": true,
     "schema_version": 3,
     "solution": false,
     "task": false
    }
   },
   "source": [
    "Now import the `simulator` function from the `lapsim` module (Note: you need to download `lapsim.py` from Blackboard and save this file in the same directory with this notebook)."
   ]
  },
  {
   "cell_type": "code",
   "execution_count": null,
   "metadata": {},
   "outputs": [],
   "source": [
    "# THIS CELL CAN BE EDITED\n",
    "\n",
    "# Add other imports here if you need to\n",
    "from lapsim import simulator"
   ]
  },
  {
   "cell_type": "code",
   "execution_count": null,
   "metadata": {
    "deletable": false,
    "editable": false,
    "nbgrader": {
     "cell_type": "code",
     "checksum": "368d5195946bf85a383fb012cfea03eb",
     "grade": false,
     "grade_id": "cell-790e671fdd3b6321",
     "locked": true,
     "schema_version": 3,
     "solution": false,
     "task": false
    }
   },
   "outputs": [],
   "source": [
    "# check the docs for `simulator`\n",
    "?simulator"
   ]
  },
  {
   "cell_type": "markdown",
   "metadata": {
    "deletable": false,
    "editable": false,
    "nbgrader": {
     "cell_type": "markdown",
     "checksum": "405ebe99f3a9f948f39d01c77a8844ee",
     "grade": false,
     "grade_id": "cell-ec818d5aaf311163",
     "locked": true,
     "schema_version": 3,
     "solution": false,
     "task": false
    }
   },
   "source": [
    "As you can see this function accepts a two-element array with $C_LA$ and $C_DA$. There is an extra argument, `plotting`. When this argument is set to 1 a plot of speed around the track vs time is shown. \n",
    "\n",
    "As an example, let's try out the simulator using $C_LA=1.2$ and $C_DA=0.5$. We'll also set the plotting input argument to 1, so that we get the plot."
   ]
  },
  {
   "cell_type": "code",
   "execution_count": null,
   "metadata": {},
   "outputs": [],
   "source": [
    "# THIS CELL CAN BE EDITED\n",
    "CLA = 1.2\n",
    "CDA = 0.1\n",
    "simulator([CLA, CDA], 1)"
   ]
  },
  {
   "cell_type": "markdown",
   "metadata": {
    "deletable": false,
    "editable": false,
    "nbgrader": {
     "cell_type": "markdown",
     "checksum": "f963f6a2bdee805870d7009c9e01cddf",
     "grade": false,
     "grade_id": "cell-42c610cadffe0167",
     "locked": true,
     "schema_version": 3,
     "solution": false,
     "task": false
    }
   },
   "source": [
    "The function returns the lap time, which is `84.91652993929577` seconds for $C_DA=0.1$ and $C_LA = 1.2$.\n",
    "\n",
    "\n",
    "Try changing the values of $C_LA$ and $C_DA$. Note how a low $C_DA$ means that the car accelerates more quickly and has a higher potential top speed, but that a high $C_LA$ is needed to give grip and higher speed round the corners. "
   ]
  },
  {
   "cell_type": "markdown",
   "metadata": {
    "deletable": false,
    "editable": false,
    "nbgrader": {
     "cell_type": "markdown",
     "checksum": "ba5c5d57dffc68cae2afc6dfc4ef3a41",
     "grade": false,
     "grade_id": "cell-0f1fe4d559e15587",
     "locked": true,
     "schema_version": 3,
     "solution": false,
     "task": false
    }
   },
   "source": [
    "### Task 1 - lap time function "
   ]
  },
  {
   "cell_type": "markdown",
   "metadata": {
    "deletable": false,
    "editable": false,
    "nbgrader": {
     "cell_type": "markdown",
     "checksum": "ce8bbc09f324d0e8bc7648d336b752d2",
     "grade": false,
     "grade_id": "cell-42c610cadffe0166",
     "locked": true,
     "schema_version": 3,
     "solution": false,
     "task": false
    }
   },
   "source": [
    "In the first task, you need to develop a function to return the lap time (the variable `lap_time`) given $C_LA$ and the lift to drag ratio `LonD` of the wing. As discussed above, replace the statement\n",
    "\n",
    "    # YOUR CODE HERE\n",
    "    raise NotImplementedError\n",
    "    # END YOUR CODE HERE\n",
    "\n",
    "with your own code and note that this syntax applies to every question below."
   ]
  },
  {
   "cell_type": "code",
   "execution_count": null,
   "metadata": {
    "deletable": false,
    "nbgrader": {
     "cell_type": "code",
     "checksum": "70c45a80378a87c4abbf41bcbb834124",
     "grade": false,
     "grade_id": "laptime",
     "locked": false,
     "schema_version": 3,
     "solution": true,
     "task": false
    }
   },
   "outputs": [],
   "source": [
    "# THIS CELL CAN BE EDITED\n",
    "\n",
    "def laptime(CLA, LonD):\n",
    "    \"\"\"\n",
    "    Return the lap time around the Highfield Street Circuit from \n",
    "    the quantity `CLA` and the lift to drag ratio `LonD`. No plotting\n",
    "    should be performed.\n",
    "    \"\"\"\n",
    "    # YOUR CODE HERE\n",
    "    raise NotImplementedError()\n",
    "    return lap_time"
   ]
  },
  {
   "cell_type": "markdown",
   "metadata": {
    "deletable": false,
    "editable": false,
    "nbgrader": {
     "cell_type": "markdown",
     "checksum": "5f7a61aab389be85cfd4108590397096",
     "grade": false,
     "grade_id": "cell-08acacffec7d82b2",
     "locked": true,
     "schema_version": 3,
     "solution": false,
     "task": false
    }
   },
   "source": [
    "Check your function works without producing any errors"
   ]
  },
  {
   "cell_type": "code",
   "execution_count": null,
   "metadata": {},
   "outputs": [],
   "source": [
    "# THIS CELL CAN BE EDITED\n",
    "laptime(0.4, 20)"
   ]
  },
  {
   "cell_type": "markdown",
   "metadata": {
    "deletable": false,
    "editable": false,
    "nbgrader": {
     "cell_type": "markdown",
     "checksum": "bc1a0842ba144f306c53272bbc72633e",
     "grade": false,
     "grade_id": "cell-9ec11c2e55b5509a",
     "locked": true,
     "schema_version": 3,
     "solution": false,
     "task": false
    }
   },
   "source": [
    "Run the test below to check your implementation is correct."
   ]
  },
  {
   "cell_type": "code",
   "execution_count": null,
   "metadata": {
    "deletable": false,
    "editable": false,
    "nbgrader": {
     "cell_type": "code",
     "checksum": "cdcef53bad46e7bcdf1ed173efe7ad41",
     "grade": true,
     "grade_id": "test_laptime",
     "locked": true,
     "points": 3,
     "schema_version": 3,
     "solution": false,
     "task": false
    }
   },
   "outputs": [],
   "source": [
    "# Check the function `laptime` is implemented correctly\n",
    "assert np.allclose(laptime(1.2, 12), 84.9165299, atol=0.01)"
   ]
  },
  {
   "cell_type": "markdown",
   "metadata": {
    "deletable": false,
    "editable": false,
    "nbgrader": {
     "cell_type": "markdown",
     "checksum": "9b50df64a9ba48ccbdee7767e5f4b71a",
     "grade": false,
     "grade_id": "cell-2fb44b0e4981a390",
     "locked": true,
     "schema_version": 3,
     "solution": false,
     "task": false
    }
   },
   "source": [
    "### Task 2 - Surface plot of lap time"
   ]
  },
  {
   "cell_type": "markdown",
   "metadata": {
    "deletable": false,
    "editable": false,
    "nbgrader": {
     "cell_type": "markdown",
     "checksum": "a0860f06985257f4333d59b800fbc155",
     "grade": false,
     "grade_id": "cell-eb6a3df263c1b314",
     "locked": true,
     "schema_version": 3,
     "solution": false,
     "task": false
    }
   },
   "source": [
    "Rather than trial and error to see which values of $C_LA$ and $C_DA$ give the best lap time, we could plot out the lap time for a range of lift and drag coefficients. We'll need to first create an array of $C_LA$ and $C_DA$ values. In the cell below, use `np.linspace` to create `NL=11` values between 0 and 1.0 stored in array `CLA` and `ND=15` values between 0.0 and 0.5 stored in array `CDA`. \n",
    "\n",
    "Varying the downforce produced by the wing from 0 to 1.0 is relatively straightforward, as we can easily vary the angle of attack. On the other hand, varying the drag, and in particular decreasing the drag by designing a better airfoil, might be harder. "
   ]
  },
  {
   "cell_type": "code",
   "execution_count": null,
   "metadata": {
    "deletable": false,
    "nbgrader": {
     "cell_type": "code",
     "checksum": "5ef7bc6920bb8802cc01e935611b7479",
     "grade": false,
     "grade_id": "linspace",
     "locked": false,
     "schema_version": 3,
     "solution": true,
     "task": false
    }
   },
   "outputs": [],
   "source": [
    "# THIS CELL CAN BE EDITED\n",
    "NL = 11 # number of values for CLA\n",
    "ND = 15 # number of values for CDA\n",
    "# YOUR CODE HERE\n",
    "raise NotImplementedError()"
   ]
  },
  {
   "cell_type": "markdown",
   "metadata": {
    "deletable": false,
    "editable": false,
    "nbgrader": {
     "cell_type": "markdown",
     "checksum": "5a187b1e2de86638156dc51a9534e289",
     "grade": false,
     "grade_id": "cell-d849318a7bd25d2c",
     "locked": true,
     "schema_version": 3,
     "solution": false,
     "task": false
    }
   },
   "source": [
    "Let's run some tests to check your code."
   ]
  },
  {
   "cell_type": "code",
   "execution_count": null,
   "metadata": {
    "deletable": false,
    "editable": false,
    "nbgrader": {
     "cell_type": "code",
     "checksum": "bcfd620e4d30e0567b5c38f319404a74",
     "grade": true,
     "grade_id": "check_linspace",
     "locked": true,
     "points": 3,
     "schema_version": 3,
     "solution": false,
     "task": false
    }
   },
   "outputs": [],
   "source": [
    "# Check CLA and CDA are correct\n",
    "assert len(CLA) == 11\n",
    "assert len(CDA) == 15\n",
    "assert np.allclose(CLA[2], 0.2, atol=0.001)\n",
    "assert np.allclose(CDA[2], 0.07142857, atol=0.001)"
   ]
  },
  {
   "cell_type": "markdown",
   "metadata": {
    "deletable": false,
    "editable": false,
    "nbgrader": {
     "cell_type": "markdown",
     "checksum": "659ee6fa6f1f18c187c1012f92b61e02",
     "grade": false,
     "grade_id": "cell-7ee34b42647501ad",
     "locked": true,
     "schema_version": 3,
     "solution": false,
     "task": false
    }
   },
   "source": [
    "Now, we create a 2D array of lap times called `times` corresponding to all combinations of these values (set plotting to 0 and note this could take a while). We first initialise it and the fill it in. Complete the missing section in the cell below and then run the tests."
   ]
  },
  {
   "cell_type": "code",
   "execution_count": null,
   "metadata": {
    "deletable": false,
    "nbgrader": {
     "cell_type": "code",
     "checksum": "a605799d8f7fc24d3dc8f13460ef0ac5",
     "grade": false,
     "grade_id": "nested-loops",
     "locked": false,
     "schema_version": 3,
     "solution": true,
     "task": false
    }
   },
   "outputs": [],
   "source": [
    "# THIS CELL CAN BE EDITED\n",
    "\n",
    "# drag along the rows, lift along the columns\n",
    "times = np.zeros((ND, NL))\n",
    "\n",
    "for iD in range(ND):\n",
    "    for iL in range(NL):\n",
    "        # YOUR CODE HERE\n",
    "        raise NotImplementedError()"
   ]
  },
  {
   "cell_type": "code",
   "execution_count": null,
   "metadata": {
    "deletable": false,
    "editable": false,
    "nbgrader": {
     "cell_type": "code",
     "checksum": "06ab43f79c7ac5c6f4fde8c7f31628cc",
     "grade": true,
     "grade_id": "nested-loops_tests",
     "locked": true,
     "points": 4,
     "schema_version": 3,
     "solution": false,
     "task": false
    }
   },
   "outputs": [],
   "source": [
    "# Check 2D array times is correct\n",
    "assert np.allclose(times[0, 0], 75.59843762218125, atol=0.001)\n",
    "assert np.allclose(times[1, 1], 73.51373463392072, atol=0.001)"
   ]
  },
  {
   "cell_type": "markdown",
   "metadata": {
    "deletable": false,
    "editable": false,
    "nbgrader": {
     "cell_type": "markdown",
     "checksum": "7f6152c32b24be59473db436ac274779",
     "grade": false,
     "grade_id": "cell-f984dd82b1ce0ddf",
     "locked": true,
     "schema_version": 3,
     "solution": false,
     "task": false
    }
   },
   "source": [
    "We will now create a contour plot for the lap time, as a function of $C_LA$ and $C_DA$, to visualise the role that the aerodynamics has on the lap time. This information will be key for your airfoil design task. The code below creates the surface plot and saves the resulting image as `laptime.png` in the current directory. Does the code make sense to you?"
   ]
  },
  {
   "cell_type": "code",
   "execution_count": null,
   "metadata": {
    "deletable": false,
    "editable": false,
    "nbgrader": {
     "cell_type": "code",
     "checksum": "3feca93136b11ff4fd08de11c5a72df8",
     "grade": false,
     "grade_id": "cell-198fe3e7743d410d",
     "locked": true,
     "schema_version": 3,
     "solution": false,
     "task": false
    }
   },
   "outputs": [],
   "source": [
    "# plot 30 filled contours\n",
    "plt.contourf(CLA, CDA, times, 30)\n",
    "\n",
    "# add a colorbar \n",
    "plt.colorbar(label=\"lap time [s]\")\n",
    "\n",
    "# add labels\n",
    "plt.xlabel('$C_LA$')\n",
    "plt.ylabel('$C_DA$')\n",
    "\n",
    "# save figure\n",
    "plt.savefig('laptime.png', dpi=600)"
   ]
  },
  {
   "cell_type": "markdown",
   "metadata": {
    "deletable": false,
    "editable": false,
    "nbgrader": {
     "cell_type": "markdown",
     "checksum": "667e6ccd73dd9d7aa0c9dbbf24cd8cc4",
     "grade": false,
     "grade_id": "cell-00b2387ee68bf6cd",
     "locked": true,
     "schema_version": 3,
     "solution": false,
     "task": false
    }
   },
   "source": [
    "Now we can see roughly where the best lap time is: $C_DA$ needs to be as low as possible, while it appears there is a value of $C_LA$ which should give a minimal lap time. This suggests that we might want to optimise the airfoil geometry to minimize drag, while satisfying the constraint of approximating $C_LA$ to that target. There also seem to be several local optima, for different values of $C_LA$.\n",
    "\n",
    "It would be good to get an accurate result for the best $C_LA$ though. We could zoom in the region of the minimum, or use an optimizer."
   ]
  },
  {
   "cell_type": "markdown",
   "metadata": {
    "deletable": false,
    "editable": false,
    "nbgrader": {
     "cell_type": "markdown",
     "checksum": "4fb9a6b6505294e57d73559766b9ec10",
     "grade": false,
     "grade_id": "cell-3bb2d5d3c8d0e091",
     "locked": true,
     "schema_version": 3,
     "solution": false,
     "task": false
    }
   },
   "source": [
    "### Task 3 - Simple optimisation"
   ]
  },
  {
   "cell_type": "markdown",
   "metadata": {
    "deletable": false,
    "editable": false,
    "nbgrader": {
     "cell_type": "markdown",
     "checksum": "c302c65188e62c97830fd7b5cc9f9b66",
     "grade": false,
     "grade_id": "cell-94cf5e4d5938aca0",
     "locked": true,
     "schema_version": 3,
     "solution": false,
     "task": false
    }
   },
   "source": [
    "To get started, we leave the simulator aside and we first try optimizing a simple function of two variables, $x$ and $y$, defined as\n",
    "\n",
    "\n",
    "$$f(x, y) = (1 - x)^2 + 100 (y -x^2)^2$$\n",
    "\n",
    "In the optimisation literature, this function is called the [Rosenbrock](https://en.wikipedia.org/wiki/Rosenbrock_function) function and is a popular benchmark for optimisation algorithms. \n",
    "\n",
    "\n",
    "You'll need to complete the code below to create a python function that computes the Rosenbrock function."
   ]
  },
  {
   "cell_type": "code",
   "execution_count": null,
   "metadata": {
    "deletable": false,
    "nbgrader": {
     "cell_type": "code",
     "checksum": "648a582c0e20db126369e5515774b299",
     "grade": false,
     "grade_id": "rosenbrock",
     "locked": false,
     "schema_version": 3,
     "solution": true,
     "task": false
    }
   },
   "outputs": [],
   "source": [
    "# THIS CELL CAN BE EDITED\n",
    "\n",
    "def rosenbrock(xy):\n",
    "    \"\"\"\n",
    "    Compute the value `f` of Rosenbrock function  at point `(x, y) = {xy[0], xy[1]}`, \n",
    "    where the argument `xy` is a two-element numpy array or two-element list with\n",
    "    the x and y variables.\n",
    "    \"\"\"\n",
    "    # YOUR CODE HERE\n",
    "    raise NotImplementedError()\n",
    "    return f"
   ]
  },
  {
   "cell_type": "markdown",
   "metadata": {
    "deletable": false,
    "editable": false,
    "nbgrader": {
     "cell_type": "markdown",
     "checksum": "1202f70d50642f98fd6589676e82871b",
     "grade": false,
     "grade_id": "cell-0440e278f5765d73",
     "locked": true,
     "schema_version": 3,
     "solution": false,
     "task": false
    }
   },
   "source": [
    "Check first your code runs properly without error:"
   ]
  },
  {
   "cell_type": "code",
   "execution_count": null,
   "metadata": {},
   "outputs": [],
   "source": [
    "# THIS CELL CAN BE EDITED\n",
    "print(rosenbrock([5, 5]))"
   ]
  },
  {
   "cell_type": "code",
   "execution_count": null,
   "metadata": {
    "deletable": false,
    "editable": false,
    "nbgrader": {
     "cell_type": "code",
     "checksum": "e11553c3ab3da3c902282dc2e8be126a",
     "grade": true,
     "grade_id": "rosenbrock_test",
     "locked": true,
     "points": 2,
     "schema_version": 3,
     "solution": false,
     "task": false
    }
   },
   "outputs": [],
   "source": [
    "# Check rosenbrock function returns correct results\n",
    "assert np.allclose(rosenbrock([1.0, 2.0]), 100.0, atol=0.001)"
   ]
  },
  {
   "cell_type": "markdown",
   "metadata": {
    "deletable": false,
    "editable": false,
    "nbgrader": {
     "cell_type": "markdown",
     "checksum": "eba3185de56808058f2ee32882a0ead9",
     "grade": false,
     "grade_id": "cell-055e757c5258234c",
     "locked": true,
     "schema_version": 3,
     "solution": false,
     "task": false
    }
   },
   "source": [
    "The minimum of this function is at $(x, y) = \\{1,1\\}$, and the mimum value is zero. Let's check::"
   ]
  },
  {
   "cell_type": "code",
   "execution_count": null,
   "metadata": {
    "deletable": false,
    "editable": false,
    "nbgrader": {
     "cell_type": "code",
     "checksum": "31d456a654ca66c6fb8e9632f222be8c",
     "grade": false,
     "grade_id": "cell-155683c91664cc27",
     "locked": true,
     "schema_version": 3,
     "solution": false,
     "task": false
    }
   },
   "outputs": [],
   "source": [
    "# this is the minimizer\n",
    "xy = np.array([1.0, 1.0])\n",
    "\n",
    "# this should be zero\n",
    "rosenbrock(xy)"
   ]
  },
  {
   "cell_type": "markdown",
   "metadata": {
    "deletable": false,
    "editable": false,
    "nbgrader": {
     "cell_type": "markdown",
     "checksum": "4dd086815963f30d514f79997a0b5bbf",
     "grade": false,
     "grade_id": "cell-1e7a0496b855402d",
     "locked": true,
     "schema_version": 3,
     "solution": false,
     "task": false
    }
   },
   "source": [
    "We should be able to find this result using an optimizer, using Scipy.optimize's `minimize` function. Unlike in other tasks, here we'll used the 'L-BFGS-B' method, which can incorporate bound constraints (see later).\n",
    "\n",
    "As usual, we pass to `minimize` the name of our function (`rosenbrock`) and an initial guess, the point $(x, y) = \\{2,2\\}$:"
   ]
  },
  {
   "cell_type": "code",
   "execution_count": null,
   "metadata": {
    "deletable": false,
    "editable": false,
    "nbgrader": {
     "cell_type": "code",
     "checksum": "35b536ebe467c431b0c09ad94aac8b20",
     "grade": false,
     "grade_id": "cell-5c87c4f9f4744157",
     "locked": true,
     "schema_version": 3,
     "solution": false,
     "task": false
    }
   },
   "outputs": [],
   "source": [
    "# import minimize\n",
    "from scipy.optimize import minimize\n",
    "\n",
    "# initial guess\n",
    "xy0 = np.array([2.0, 2.0])\n",
    "\n",
    "# run optimiser\n",
    "result = minimize(rosenbrock, xy0, method='L-BFGS-B')\n",
    "\n",
    "# let's print the result\n",
    "print(result)"
   ]
  },
  {
   "cell_type": "markdown",
   "metadata": {
    "deletable": false,
    "editable": false,
    "nbgrader": {
     "cell_type": "markdown",
     "checksum": "d0346ed91e11639e0666d4113b09dcd6",
     "grade": false,
     "grade_id": "cell-81542ceb6b10f0ce",
     "locked": true,
     "schema_version": 3,
     "solution": false,
     "task": false
    }
   },
   "source": [
    "The optimizer has found the minimum succesfully, with `opt_out.x` close to the actual minimizer and `opt_out.fun` (the objective function at the minimum) very close to zero.\n",
    "\n",
    "Let's make things a bit more complicated by introducing bound constraints to our problem. Instead of finding the minimum for any value of $(x, y)$, we'll introduce the bound constraints\n",
    "\n",
    "$$0 < x < 0.5 \\quad \\mathrm{and} \\quad 2 < y < 3.$$\n",
    "\n",
    "In practice, this means that we are looking for a minimum of the function $f$ in a rectangle on the $(x, y)$ plane. Because the point $\\{1, 1\\}$ (the minimizer of the unconstrained problem) does not fall into this rectangle, the minimum will likely be different.\n",
    "\n",
    "We'll also assume that the function might have some 'noise' in the output, so we'll set the minimum finite difference for approximating the gradient in the function (`eps`) to be 0.001 (do not worry if you do not understand what this means, keep going). "
   ]
  },
  {
   "cell_type": "code",
   "execution_count": null,
   "metadata": {
    "deletable": false,
    "editable": false,
    "nbgrader": {
     "cell_type": "code",
     "checksum": "ea2dd5e65719108fad4b2b4361d6cece",
     "grade": false,
     "grade_id": "cell-88f6fc804d66f0a1",
     "locked": true,
     "schema_version": 3,
     "solution": false,
     "task": false
    }
   },
   "outputs": [],
   "source": [
    "# define the bounds for the constraints, for the x variable and for the y variable\n",
    "# This can be done by passing a two-element list of two-element lists of floating points numbers \n",
    "# for the keyword argument `bounds` in the function minimize\n",
    "bounds = [[0.0, 0.5], [2.0, 3.0]]\n",
    "\n",
    "# initial guess that satisfies the bounds constraint\n",
    "xy0 = [0.2, 2.5]\n",
    "\n",
    "# call optimiser\n",
    "result = minimize(rosenbrock, xy0, method='L-BFGS-B', bounds = bounds, options={'eps':0.001})\n",
    "\n",
    "# print output\n",
    "print(result)"
   ]
  },
  {
   "cell_type": "markdown",
   "metadata": {
    "deletable": false,
    "editable": false,
    "nbgrader": {
     "cell_type": "markdown",
     "checksum": "e6f409206d52014f67e9e10b7d1c7511",
     "grade": false,
     "grade_id": "cell-cab8c5540c7342d1",
     "locked": true,
     "schema_version": 3,
     "solution": false,
     "task": false
    }
   },
   "source": [
    "Here, we see the minimum is at $(x, y) = \\{0.5, 2\\}$, i.e. not other point in the rectangle defined above on the $(x, y)$ plane has lower value. \n",
    "\n",
    "Hopefully, with this little example you now know how to add bound constraints to an optimisation problem."
   ]
  },
  {
   "cell_type": "markdown",
   "metadata": {
    "deletable": false,
    "editable": false,
    "nbgrader": {
     "cell_type": "markdown",
     "checksum": "ce72f6820505fb7c07b730e8750f45e1",
     "grade": false,
     "grade_id": "cell-4975a7cab330ae81",
     "locked": true,
     "schema_version": 3,
     "solution": false,
     "task": false
    }
   },
   "source": [
    "### Task 4 - Optimizing lap time"
   ]
  },
  {
   "cell_type": "markdown",
   "metadata": {
    "deletable": false,
    "editable": false,
    "nbgrader": {
     "cell_type": "markdown",
     "checksum": "37080c6a9598f8d66a5ec64e23b4104a",
     "grade": false,
     "grade_id": "cell-4975a7cab340ae81",
     "locked": true,
     "schema_version": 3,
     "solution": false,
     "task": false
    }
   },
   "source": [
    "Based on what you've learnt from the above examples, you should now find the optimum values for $C_LA$ and $C_DA$ to minimize the lap time. You'll have to use the `simulator` function created above. \n",
    "\n",
    "Clearly, you can't make a wing with zero (or negative) drag! To ensure the optimisation does not violate this simple aerodynamic fact, use the bounds \n",
    "\n",
    "$$0.0 < C_LA < 1 \\quad \\mathrm{and} \\quad 0.0 < C_DA < 0.5,$$\n",
    "\n",
    "with `'eps':0.001`, similar to what we did in the previous task. Based on the analysis you have done in task 2, you should use an appropriate initial guess for the optimisation, like `[0.5, 0.2]`. Store the output of minimize in the variable `result` and use the `L-BFGS-B` method for the optimisation."
   ]
  },
  {
   "cell_type": "code",
   "execution_count": null,
   "metadata": {
    "deletable": false,
    "nbgrader": {
     "cell_type": "code",
     "checksum": "78a8be2414ac550ce788988e1a13c6e5",
     "grade": false,
     "grade_id": "optimize",
     "locked": false,
     "schema_version": 3,
     "solution": true,
     "task": false
    }
   },
   "outputs": [],
   "source": [
    "# THIS CELL CAN BE EDITED\n",
    "\n",
    "# YOUR CODE HERE\n",
    "raise NotImplementedError()\n",
    "\n",
    "print(result)"
   ]
  },
  {
   "cell_type": "markdown",
   "metadata": {
    "deletable": false,
    "editable": false,
    "nbgrader": {
     "cell_type": "markdown",
     "checksum": "e022dbf87ac0b779541855c84e575c08",
     "grade": false,
     "grade_id": "cell-85754ffeb817301a",
     "locked": true,
     "schema_version": 3,
     "solution": false,
     "task": false
    }
   },
   "source": [
    "Now run the lap time simulator using the optimal $C_LA$ and $C_DA$, (stored in `result.x`), but this time plot the speed/time curve:"
   ]
  },
  {
   "cell_type": "code",
   "execution_count": null,
   "metadata": {
    "deletable": false,
    "editable": false,
    "nbgrader": {
     "cell_type": "code",
     "checksum": "b1da780ff93dfa5f192613f448cb6db5",
     "grade": false,
     "grade_id": "cell-8a15948a0d2a98e6",
     "locked": true,
     "schema_version": 3,
     "solution": false,
     "task": false
    }
   },
   "outputs": [],
   "source": [
    "simulator(result.x, plotting=1)"
   ]
  },
  {
   "cell_type": "markdown",
   "metadata": {
    "deletable": false,
    "editable": false,
    "nbgrader": {
     "cell_type": "markdown",
     "checksum": "049e96734962dcb0a85a88ef81d9cdcb",
     "grade": false,
     "grade_id": "cell-04bfda6d90828c51",
     "locked": true,
     "schema_version": 3,
     "solution": false,
     "task": false
    }
   },
   "source": [
    "Interestingly, low drag values allow high speeds to be reached on the straights and lower lap time! Let's now try to add the optimisation result onto the contour plot we created before."
   ]
  },
  {
   "cell_type": "code",
   "execution_count": null,
   "metadata": {
    "deletable": false,
    "editable": false,
    "nbgrader": {
     "cell_type": "code",
     "checksum": "2b8242182d1ae2f4c1d26d66a8126866",
     "grade": false,
     "grade_id": "cell-f3dacd7a474c9d98",
     "locked": true,
     "schema_version": 3,
     "solution": false,
     "task": false
    }
   },
   "outputs": [],
   "source": [
    "# plot 30 filled contours\n",
    "plt.contourf(CLA, CDA, times, 30)\n",
    "\n",
    "# add a colorbar \n",
    "plt.colorbar(label=\"lap time [s]\")\n",
    "\n",
    "# add labels\n",
    "plt.xlabel('$C_LA$')\n",
    "plt.ylabel('$C_DA$')\n",
    "\n",
    "# add location of the optimum with a red star\n",
    "plt.plot(result.x[0], result.x[1], \"r*\", ms=15)\n",
    "\n",
    "# save figure\n",
    "plt.savefig('laptime_with_optimum.png', dpi=600)"
   ]
  },
  {
   "cell_type": "markdown",
   "metadata": {
    "deletable": false,
    "editable": false,
    "nbgrader": {
     "cell_type": "markdown",
     "checksum": "57a0baaf778177222cae23e15a0494f8",
     "grade": false,
     "grade_id": "cell-f4b8f7be94c93700",
     "locked": true,
     "schema_version": 3,
     "solution": false,
     "task": false
    }
   },
   "source": [
    "Using the initial guess `[0.5, 2]` we have ended up in a configuration where $C_LA$ has a particular value and $C_DA$ is minimum. This is what we should be trying to achieve in the second notebook, `optfoil.ipynb`.\n",
    "\n",
    "The optimisation might have ended in a different local optimum, depending on the initial guess. Can you try changing the initial guess and see what effect this has?\n",
    "\n",
    "We finally check you have implemented the optimisation correctly. If your test fails try changing the initial guess."
   ]
  },
  {
   "cell_type": "code",
   "execution_count": null,
   "metadata": {
    "deletable": false,
    "editable": false,
    "nbgrader": {
     "cell_type": "code",
     "checksum": "ee26c3172eb03d83d0a90624d3181d8e",
     "grade": true,
     "grade_id": "check_optimizer",
     "locked": true,
     "points": 3,
     "schema_version": 3,
     "solution": false,
     "task": false
    }
   },
   "outputs": [],
   "source": [
    "# Check that optimizer returns correct result\n",
    "assert result.fun < 80"
   ]
  },
  {
   "cell_type": "markdown",
   "metadata": {
    "deletable": false,
    "editable": false,
    "nbgrader": {
     "cell_type": "markdown",
     "checksum": "b3dde18b36b96557768b3bd7c84778ec",
     "grade": false,
     "grade_id": "cell-04d1cd04063f6c05",
     "locked": true,
     "schema_version": 3,
     "solution": false,
     "task": false
    }
   },
   "source": [
    "__NOTE: Restart the kernel and run all (click \"Kernel\", \"Restart & Run All\"), to make sure everything is working correctly before submitting this .ipynb file via Blackboard.__"
   ]
  }
 ],
 "metadata": {
  "@webio": {
   "lastCommId": null,
   "lastKernelId": null
  },
  "kernelspec": {
   "display_name": "Python 3 (ipykernel)",
   "language": "python",
   "name": "python3"
  },
  "language_info": {
   "codemirror_mode": {
    "name": "ipython",
    "version": 3
   },
   "file_extension": ".py",
   "mimetype": "text/x-python",
   "name": "python",
   "nbconvert_exporter": "python",
   "pygments_lexer": "ipython3",
   "version": "3.9.7"
  }
 },
 "nbformat": 4,
 "nbformat_minor": 4
}
