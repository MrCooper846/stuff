{
 "cells": [
  {
   "cell_type": "markdown",
   "metadata": {
    "deletable": false,
    "editable": false,
    "nbgrader": {
     "cell_type": "markdown",
     "checksum": "4e4492093edb5219d42932c2e8c5e929",
     "grade": false,
     "grade_id": "cell-38dca220e4934e15",
     "locked": true,
     "schema_version": 3,
     "solution": false,
     "task": false
    }
   },
   "source": [
    "# Parametric B&eacute;zier spline aerofoil design \n",
    "\n",
    "This Jupyter notebook is one of the two notebooks that you have to complete and submit as part of the FEEG1001 Summative Design Assessment. You should first complete the `lapsimulator.ipynb` notebook and then work on this one.\n",
    "\n",
    "__NOTE: You will have to use the classical Jupyter Notebook interface, rather than the newer Jupyter Lab, for the assessment to work properly.__\n",
    "\n",
    "Similar to the labs, this notebook has some sections that have been completed for you already, while in some other cells you will have to write some code. There are 5 tasks in total in this notebook, with step-to-step guidance. There are some checks to make sure your code works properly. \n",
    "\n",
    "Note that this notebook is a little bit different from other notebooks you are used to in the labs. There are some cells that are read-only and can't be modified. You'll have to write your solution in special cells containing the statements\n",
    "\n",
    "    # YOUR CODE HERE\n",
    "    raise NotImplementedError\n",
    "    # END YOUR CODE HERE\n",
    "    \n",
    "replacing these two lines with your own code."
   ]
  },
  {
   "cell_type": "markdown",
   "metadata": {
    "deletable": false,
    "editable": false,
    "nbgrader": {
     "cell_type": "markdown",
     "checksum": "52bd7b0aaa670f1d8cceeb521b343ba8",
     "grade": false,
     "grade_id": "cell-38dca211e4924e15",
     "locked": true,
     "schema_version": 3,
     "solution": false,
     "task": false
    }
   },
   "source": [
    "## Problem specification\n",
    "\n",
    "In this notebook, the task is to design an optimal airfoil geometry for the front or rear wing of a race car competing around the Highfield Street Circuit. From `lapsimulator.ipynb`, we now know we need to minimize drag while producing a target lift (downforce) coefficient times reference area \n",
    "\n",
    "$$C_L^* A = 0.52$$\n",
    "\n",
    "with $A$ the reference area. From your optimisation, you might get a value slightly different from 0.52, but we'll use it here as an reasonable value.\n",
    "\n",
    "From the Summative Assessment Instructions, the reference area for the front wing is $2000 mm$ (span) $\\times$ $500 mm$ (chord), for a total area of $1 m^2$. For the rear wing, the reference area is $1050 mm \\times 500 mm = 0.525 m^2$. This means that depending on whether you decided to work on the front or rear wing, the target lift coefficient $C_l^* = 0.52 / A$ for the 2D airfoil can be different. For the front wing, we have $C_l^* = 0.52$, while $C_l^* = 0.99$ for the rear wing.  You can use this notebook to design either airfoil, but you now see that designing a rear wing will be slightly more challenging! In practice, real 3D wings also suffer of finite-wing effects that reduce the overall lift compared to the 2D predictions. However, at this stage of the design using simple (and fast) design tools is sufficient.\n",
    "\n",
    "To solve this task, you will use concepts similar to those developed in the labs. We will define parametric airfoils and use the $y$ location of one of the control points and the angle of attack as the two design parameters for this design optimisation problem. We will use some of the codes developed in the labs, so you'll have to download from Blackaboard the files `lab_1_tools.py`, `lab_2_tools.py` and `airfoilsim.py` from their Labs folders. As usual, save these files in the same directory with this notebook. Note that you'll have to be connected to the University VPN for the airfoil simulator to work."
   ]
  },
  {
   "cell_type": "markdown",
   "metadata": {
    "deletable": false,
    "editable": false,
    "nbgrader": {
     "cell_type": "markdown",
     "checksum": "e1f2268408e43834c1b194d439d69ea3",
     "grade": false,
     "grade_id": "cell-5de532e82b06f427",
     "locked": true,
     "schema_version": 3,
     "solution": false,
     "task": false
    }
   },
   "source": [
    "Before you proceed, you need to decide if you are going to design a front wing or a rear wing. Edit the cell below and set the variable `cl_star` (used below in the rest of the notebook) to 0.52 (for a front wing) or to 0.99 (for the rear wing)."
   ]
  },
  {
   "cell_type": "code",
   "execution_count": null,
   "metadata": {},
   "outputs": [],
   "source": [
    "# THIS CELL CAN BE EDITED\n",
    "\n",
    "# set cl_star to 0.52 (for a front wing) or to 0.99 (for the rear wing)\n",
    "cl_star = 0.99"
   ]
  },
  {
   "cell_type": "code",
   "execution_count": null,
   "metadata": {
    "deletable": false,
    "editable": false,
    "nbgrader": {
     "cell_type": "code",
     "checksum": "cc996378a569edecaa14175325988344",
     "grade": false,
     "grade_id": "cl_star",
     "locked": true,
     "schema_version": 3,
     "solution": false,
     "task": false
    }
   },
   "outputs": [],
   "source": [
    "# simple sanity check on the value of cl_star. Adjust the cell above until this runs\n",
    "assert cl_star in (0.52, 0.99)"
   ]
  },
  {
   "cell_type": "markdown",
   "metadata": {
    "deletable": false,
    "editable": false,
    "nbgrader": {
     "cell_type": "markdown",
     "checksum": "290cf095d517177f5bc31131ea9d3239",
     "grade": false,
     "grade_id": "cell-56f3a20e05e0d2b7",
     "locked": true,
     "schema_version": 3,
     "solution": false,
     "task": false
    }
   },
   "source": [
    "OK, we can now start this notebook with the usual imports."
   ]
  },
  {
   "cell_type": "code",
   "execution_count": null,
   "metadata": {
    "deletable": false,
    "editable": false,
    "nbgrader": {
     "cell_type": "code",
     "checksum": "b46f1ee7b0fecf94820b07e820e7750d",
     "grade": false,
     "grade_id": "cell-20817988862d5ebf",
     "locked": true,
     "schema_version": 3,
     "solution": false,
     "task": false
    }
   },
   "outputs": [],
   "source": [
    "# Similar to other cells below, this cell cannot be edited.\n",
    "# If you need to use any other import statements, please put them in editable cells below\n",
    "\n",
    "# for the maths and arrays\n",
    "import numpy as np         \n",
    "\n",
    "# for the plotting\n",
    "import matplotlib.pyplot as plt\n",
    "\n",
    "# import simulator\n",
    "from airfoilsim import airfoilsim\n",
    "\n",
    "# standard bezier curves\n",
    "from lab_1_tools import bezier\n",
    "\n",
    "# plotting function\n",
    "from lab_2_tools import plot_airfoil"
   ]
  },
  {
   "cell_type": "markdown",
   "metadata": {
    "deletable": false,
    "editable": false,
    "nbgrader": {
     "cell_type": "markdown",
     "checksum": "7de28fd535342df5eaa40b8e32765c6e",
     "grade": false,
     "grade_id": "cell-26f01bd645715874",
     "locked": true,
     "schema_version": 3,
     "solution": false,
     "task": false
    }
   },
   "source": [
    "### Task 1 - create a parametric B&eacute;zier spline airfoil"
   ]
  },
  {
   "cell_type": "markdown",
   "metadata": {
    "deletable": false,
    "editable": false,
    "nbgrader": {
     "cell_type": "markdown",
     "checksum": "3441e07985d808e3000ae049b642bb55",
     "grade": false,
     "grade_id": "cell-26f01bd645715873",
     "locked": true,
     "schema_version": 3,
     "solution": false,
     "task": false
    }
   },
   "source": [
    "In this task you will write a function `parametric_aerofoil_2` that creates a B&eacute;zier spline aerofoil and returns a 2D array `B` of $x,y$ points on the airfoil from the trailing edge, along the lower surface, round the leading edge, and back along the upper surface to the trailing edge. \n",
    "\n",
    "This is similar to Lab 2 except now the aerofoil shape should be varied by changing the design parameter $y_{\\mathbf{q}_2}$ (defined by a variable `y_q2`), which controls the $y-$location of the upper surface control point `q[2]`. The other coordinates are fixed to default values described below and do not need to be changed. For this task, we'll use standard B&eacute;zier curves, rather than using rational curves, so we do not need to worry about the weights.\n",
    "\n",
    "I have made a start at this function in the cell below. You should develop code that does what the docstring describes. Complete it and then run the tests in the next cells."
   ]
  },
  {
   "cell_type": "code",
   "execution_count": null,
   "metadata": {
    "deletable": false,
    "nbgrader": {
     "cell_type": "code",
     "checksum": "d98712ffd17340833973b8f90163c753",
     "grade": false,
     "grade_id": "parametric_aerofoil_2",
     "locked": false,
     "schema_version": 3,
     "solution": true,
     "task": false
    }
   },
   "outputs": [],
   "source": [
    "# THIS CELL CAN BE EDITED\n",
    "\n",
    "def parametric_airfoil_2(y_q2, N=71):\n",
    "    \"\"\"\n",
    "    Compute the coordinates of the airfoil defined by the control points \n",
    "    \n",
    "    p = np.array([[1.0, 0.0], [0.5, -0.04], [0.0,  -0.06], [0.00, 0.00]])\n",
    "    q = np.array([[0.0, 0.0], [0.0,  0.06], [0.12,  y_q2], [1.00, 0.00]])\n",
    "    \n",
    "    where the geometry of the lower and upper surfaces are defined by \n",
    "    standard Bezier curves. The input argument `y_q2` defines the `y`\n",
    "    coordinate of the control point `q[2]` on the upper surface.\n",
    "    \n",
    "    The function returns the 2D array `B` with the coordinates of the \n",
    "    airfoil in the standard format, i.e. from the leading edge down to the\n",
    "    trailing edge on the lower surface and then back up to the trailing edge \n",
    "    on the upper surface, in a clockwise direction. The trailing edge point\n",
    "    at (1, 0) should be repeated, while the leading edge (0, 0) should only \n",
    "    appear once. The function also return the points `p` and `q`.\n",
    "    \n",
    "    \n",
    "    By default, `N=71` points on each surface are utilised, so that \n",
    "    `2N-1 = 141` points in total are returned.\n",
    "    \"\"\"\n",
    "    \n",
    "    # YOUR CODE HERE\n",
    "    raise NotImplementedError()\n",
    "    \n",
    "    return B, p, q"
   ]
  },
  {
   "cell_type": "markdown",
   "metadata": {
    "deletable": false,
    "editable": false,
    "nbgrader": {
     "cell_type": "markdown",
     "checksum": "fc57b131ffa5c255a6654385b852d434",
     "grade": false,
     "grade_id": "cell-752939ec11f4e2f1",
     "locked": true,
     "schema_version": 3,
     "solution": false,
     "task": false
    }
   },
   "source": [
    "Let's try to run this function with $y_{\\mathbf{q}_2} = 0.15$ and then plot the result using the `plot_airfoil` function developed in the Labs."
   ]
  },
  {
   "cell_type": "code",
   "execution_count": null,
   "metadata": {},
   "outputs": [],
   "source": [
    "# THIS CELL CAN BE EDITED\n",
    "\n",
    "# get coordinates and control points\n",
    "B, p, q = parametric_airfoil_2(0.15)\n",
    "\n",
    "# plot airfoil and control points\n",
    "plot_airfoil(B, p, q)"
   ]
  },
  {
   "cell_type": "markdown",
   "metadata": {
    "deletable": false,
    "editable": false,
    "nbgrader": {
     "cell_type": "markdown",
     "checksum": "70de00270db2485555fe882eb9ac1e71",
     "grade": false,
     "grade_id": "cell-22f1116ec341b371",
     "locked": true,
     "schema_version": 3,
     "solution": false,
     "task": false
    }
   },
   "source": [
    "In the cell above, try changing the input argument `y_q2` to understand how this parameter changes the geometry and camber of the airfoil. Then run the tests below to check your code."
   ]
  },
  {
   "cell_type": "code",
   "execution_count": null,
   "metadata": {
    "deletable": false,
    "editable": false,
    "nbgrader": {
     "cell_type": "code",
     "checksum": "d5ea7619995f9617fde7f51ea940deee",
     "grade": true,
     "grade_id": "parametric_aerofoil_2_points_test",
     "locked": true,
     "points": 6,
     "schema_version": 3,
     "solution": false,
     "task": false
    }
   },
   "outputs": [],
   "source": [
    "# check output of the function parametric_aerofoil_2\n",
    "assert np.allclose(parametric_airfoil_2(0.1)[0][10], [ 0.78717201, -0.01574344], atol=0.005)"
   ]
  },
  {
   "cell_type": "markdown",
   "metadata": {
    "deletable": false,
    "editable": false,
    "nbgrader": {
     "cell_type": "markdown",
     "checksum": "98e57d3a11102d6879c9df6c5ae25c3e",
     "grade": false,
     "grade_id": "cell-33cec56c60029ba8",
     "locked": true,
     "schema_version": 3,
     "solution": false,
     "task": false
    }
   },
   "source": [
    "OK, well done! Now keep going. If you are struggling with this task, have a look at what you did in Lab 2 and then come back here."
   ]
  },
  {
   "cell_type": "markdown",
   "metadata": {
    "deletable": false,
    "editable": false,
    "nbgrader": {
     "cell_type": "markdown",
     "checksum": "6282093308bcfd468257d6eb514e78d9",
     "grade": false,
     "grade_id": "cell-d9c04db6abbc1126",
     "locked": true,
     "schema_version": 3,
     "solution": false,
     "task": false
    }
   },
   "source": [
    "### Task 2 - study effect of angle of attack on lift and drag at constant $y_{\\mathbf{q}_2}$"
   ]
  },
  {
   "cell_type": "markdown",
   "metadata": {
    "deletable": false,
    "editable": false,
    "nbgrader": {
     "cell_type": "markdown",
     "checksum": "edeb1ea9c8b8caafa6a933d916830180",
     "grade": false,
     "grade_id": "cell-fc272ee7ff81a9aa",
     "locked": true,
     "schema_version": 3,
     "solution": false,
     "task": false
    }
   },
   "source": [
    "In this task, we will examine the effect of the airfoil angle of attack on the lift and drag coefficients by keeping the design parameter $y_{\\mathbf{q}_2}$ constant. First, we need to define the Reynolds number at which we are operating. We will consider an average speed on the Highfield Streest circuit of $35 m/s$, a reference chord of $0.5 m$ (same for front or rear wing as per design specification) and a kinematic viscosity of $1.516\\times 10^{-5}$ $m^2/s$."
   ]
  },
  {
   "cell_type": "code",
   "execution_count": null,
   "metadata": {
    "deletable": false,
    "editable": false,
    "nbgrader": {
     "cell_type": "code",
     "checksum": "6279879285bacd088715b94b343ca6da",
     "grade": false,
     "grade_id": "cell-39e7ad3dfb956fd6",
     "locked": true,
     "schema_version": 3,
     "solution": false,
     "task": false
    }
   },
   "outputs": [],
   "source": [
    "V = 35        # freestream velocity m/s\n",
    "c = 0.5       # chord m\n",
    "nu = 1.516e-5 # kinematic viscosity m^2/s"
   ]
  },
  {
   "cell_type": "markdown",
   "metadata": {
    "deletable": false,
    "editable": false,
    "nbgrader": {
     "cell_type": "markdown",
     "checksum": "0833a643d0bb47cd63cfcf3c6a8aee89",
     "grade": false,
     "grade_id": "cell-5c2582dd2d7a106b",
     "locked": true,
     "schema_version": 3,
     "solution": false,
     "task": false
    }
   },
   "source": [
    "In the cell below, complete the definition of the Reynolds number of the wing and then run the test below to check your definition."
   ]
  },
  {
   "cell_type": "code",
   "execution_count": null,
   "metadata": {
    "deletable": false,
    "nbgrader": {
     "cell_type": "code",
     "checksum": "7e290b39898e0727bb245eb33645de99",
     "grade": false,
     "grade_id": "reynolds_number_def",
     "locked": false,
     "schema_version": 3,
     "solution": true,
     "task": false
    }
   },
   "outputs": [],
   "source": [
    "# THIS CELL CAN BE EDITED\n",
    "\n",
    "# YOUR CODE HERE\n",
    "raise NotImplementedError()"
   ]
  },
  {
   "cell_type": "code",
   "execution_count": null,
   "metadata": {
    "deletable": false,
    "editable": false,
    "nbgrader": {
     "cell_type": "code",
     "checksum": "e3a01b5f4f8d5a6e8476964e88796c1c",
     "grade": true,
     "grade_id": "reynolds_number_def_2",
     "locked": true,
     "points": 2,
     "schema_version": 3,
     "solution": false,
     "task": false
    }
   },
   "outputs": [],
   "source": [
    "# check definition of Reynolds number\n",
    "assert np.allclose(Re, 1154353.562005277, atol=0.005)"
   ]
  },
  {
   "cell_type": "markdown",
   "metadata": {
    "deletable": false,
    "editable": false,
    "nbgrader": {
     "cell_type": "markdown",
     "checksum": "df178ed64d274bd8edb5e426d3f14120",
     "grade": false,
     "grade_id": "cell-419f48ae4dea1b3c",
     "locked": true,
     "schema_version": 3,
     "solution": false,
     "task": false
    }
   },
   "source": [
    "It is convenient to define a function that returns the force coefficients from the parameter $y_{\\mathbf{q}_2}$ and the angle of attack. These are our two design parameters. \n",
    "\n",
    "In the cell below, I have defined the signature of this function and wrote the docstring. Complete the code and then run the tests below."
   ]
  },
  {
   "cell_type": "code",
   "execution_count": null,
   "metadata": {
    "deletable": false,
    "nbgrader": {
     "cell_type": "code",
     "checksum": "b6529707e6b2b8640050f7bd2a5abeb1",
     "grade": false,
     "grade_id": "force_coeffs",
     "locked": false,
     "schema_version": 3,
     "solution": true,
     "task": false
    }
   },
   "outputs": [],
   "source": [
    "# THIS CELL CAN BE EDITED\n",
    "\n",
    "def force_coefficients(y_q2, alpha, Re):\n",
    "    \"\"\"\n",
    "    Return lift and drag coefficients of the airfoil geometry\n",
    "    produced by the function `parametric_airfoil_2` with \n",
    "    argument `y_q2` at an angle of attack `alpha` and Reynolds number `Re`.\n",
    "    \"\"\"\n",
    "    \n",
    "    # YOUR CODE HERE\n",
    "    raise NotImplementedError()\n",
    "    \n",
    "    return cl, cd"
   ]
  },
  {
   "cell_type": "code",
   "execution_count": null,
   "metadata": {
    "deletable": false,
    "editable": false,
    "nbgrader": {
     "cell_type": "code",
     "checksum": "c8f9cada49859211b2286963728e26fd",
     "grade": true,
     "grade_id": "force_coeffs_tests",
     "locked": true,
     "points": 3,
     "schema_version": 3,
     "solution": false,
     "task": false
    }
   },
   "outputs": [],
   "source": [
    "# check force_coefficients function\n",
    "assert np.allclose(force_coefficients(0.1, 0, 1e6), (0.0855651913, 0.0055777835), atol=0.005)"
   ]
  },
  {
   "cell_type": "markdown",
   "metadata": {
    "deletable": false,
    "editable": false,
    "nbgrader": {
     "cell_type": "markdown",
     "checksum": "51e1525fb731b71ed1c96a52312f2818",
     "grade": false,
     "grade_id": "cell-d2ce4d786f1acc1c",
     "locked": true,
     "schema_version": 3,
     "solution": false,
     "task": false
    }
   },
   "source": [
    "OK, in the next cell you'll have to write code that runs the `force_coefficients` function for 15 equally spaced angles of attack between -6 and 12, at constant $y_{\\mathbf{q}_2} = 0.1$ and for the Reynolds number defined above. You should define an array `alphas` for the angles of attack and store the lift and drag coefficients into separate lists or 1D arrays with name `cls` and `cds`, respectively. There are various techniques you could use, e.g. a for loop, a list comprehension, ...\n",
    "\n",
    "Then run the tests below to check your code. "
   ]
  },
  {
   "cell_type": "code",
   "execution_count": null,
   "metadata": {
    "deletable": false,
    "nbgrader": {
     "cell_type": "code",
     "checksum": "412391c8699fb138721cf92105d81d80",
     "grade": false,
     "grade_id": "sweep",
     "locked": false,
     "schema_version": 3,
     "solution": true,
     "task": false
    }
   },
   "outputs": [],
   "source": [
    "# THIS CELL CAN BE EDITED\n",
    "\n",
    "# YOUR CODE HERE\n",
    "raise NotImplementedError()"
   ]
  },
  {
   "cell_type": "code",
   "execution_count": null,
   "metadata": {
    "deletable": false,
    "editable": false,
    "nbgrader": {
     "cell_type": "code",
     "checksum": "833c304b0bbbe9aa70843c7d1423ff76",
     "grade": true,
     "grade_id": "sweep_tests",
     "locked": true,
     "points": 3,
     "schema_version": 3,
     "solution": false,
     "task": false
    }
   },
   "outputs": [],
   "source": [
    "# check parameter sweep function\n",
    "assert len(alphas) == 15\n",
    "assert np.allclose(alphas[2], -3.4285714285714284, atol=0.005)\n",
    "assert np.allclose(   cls[4],  0.0021465351, atol=0.005)\n",
    "assert np.allclose(   cds[2],  0.0061810222, atol=0.005)"
   ]
  },
  {
   "cell_type": "markdown",
   "metadata": {
    "deletable": false,
    "editable": false,
    "nbgrader": {
     "cell_type": "markdown",
     "checksum": "24cf29f432e0d280fc0282708b35b560",
     "grade": false,
     "grade_id": "cell-684cb237b08d6ae8",
     "locked": true,
     "schema_version": 3,
     "solution": false,
     "task": false
    }
   },
   "source": [
    "OK, in the cell below we plot the results of this analysis. If your code is correct, you should see the lift increase almost linearly with angle of attack, and the drag coefficient having a minimum at around $\\alpha = 0$."
   ]
  },
  {
   "cell_type": "code",
   "execution_count": null,
   "metadata": {
    "deletable": false,
    "editable": false,
    "nbgrader": {
     "cell_type": "code",
     "checksum": "ac0d35288e0147ab5cda2c115712fafb",
     "grade": false,
     "grade_id": "cell-5ee8f2122e12cd72",
     "locked": true,
     "schema_version": 3,
     "solution": false,
     "task": false
    }
   },
   "outputs": [],
   "source": [
    "# increase `w`idth space between subplots\n",
    "plt.subplots_adjust(wspace=0.45)\n",
    "\n",
    "# make first subplot for lift\n",
    "plt.subplot(121)\n",
    "\n",
    "plt.plot(alphas, cls)\n",
    "\n",
    "# add labels and grid\n",
    "plt.xlabel(\"alpha\")\n",
    "plt.ylabel(\"$C_l$\")\n",
    "plt.grid(1)\n",
    "\n",
    "# add axes\n",
    "plt.axvline(0, zorder=0, color=\"gray\")\n",
    "plt.axhline(0, zorder=0, color=\"gray\")\n",
    "\n",
    "\n",
    "# make second subplot for drag\n",
    "plt.subplot(122)\n",
    "\n",
    "plt.plot(alphas, cds)\n",
    "\n",
    "# add labels and grid\n",
    "plt.xlabel(\"alpha\")\n",
    "plt.ylabel(\"$C_d$\")\n",
    "plt.grid(1)\n",
    "\n",
    "# add axes\n",
    "plt.axvline(0, zorder=0, color=\"gray\")\n",
    "plt.axhline(0, zorder=0, color=\"gray\")"
   ]
  },
  {
   "cell_type": "markdown",
   "metadata": {
    "deletable": false,
    "editable": false,
    "nbgrader": {
     "cell_type": "markdown",
     "checksum": "e2c68724038021e42f156921bf412e86",
     "grade": false,
     "grade_id": "cell-fdda1d89c9701bb3",
     "locked": true,
     "schema_version": 3,
     "solution": false,
     "task": false
    }
   },
   "source": [
    "OK, well done! Keep going now."
   ]
  },
  {
   "cell_type": "markdown",
   "metadata": {
    "deletable": false,
    "editable": false,
    "nbgrader": {
     "cell_type": "markdown",
     "checksum": "04c2b1c951ba6a2f3bd6661873e2bd26",
     "grade": false,
     "grade_id": "cell-8dd6698c35d72450",
     "locked": true,
     "schema_version": 3,
     "solution": false,
     "task": false
    }
   },
   "source": [
    "### Task 3 - study effect of angle of attack and $y_{\\mathbf{q}_2}$ on lift and drag coefficients"
   ]
  },
  {
   "cell_type": "markdown",
   "metadata": {
    "deletable": false,
    "editable": false,
    "nbgrader": {
     "cell_type": "markdown",
     "checksum": "722e1b65ab4633b8ca99bf7e0c0e897f",
     "grade": false,
     "grade_id": "cell-61b64b5732551fa7",
     "locked": true,
     "schema_version": 3,
     "solution": false,
     "task": false
    }
   },
   "source": [
    "In this task we will explore the parameter space of this design problem, by computing force coefficients for various combinations of co-ordinate $y_{\\mathbf{q}_2}$ and angle of attack. We will produce 2D contour plots as in Lab 4.\n",
    "\n",
    "In the cell below, you will have to develop some code that loops over an array `alphas` with 8 angles of attacks equally spaced between -2 to 8 degrees and an array `y_q2s` with 9 co-ordinates $y_{\\mathbf{q}_2}$ from 0 to 0.35 and evaluates the force coefficients for each possible combination. \n",
    "\n",
    "You should initialise two 2D arrays, `CLS` and `CDS`, with shape (8, 9) and use the two-nested-for-loops technique to fill them with the lift and drag coefficients, respectively. \n",
    "\n",
    "Use the suggested names for these arrays, so that the test below might have a chance to pass."
   ]
  },
  {
   "cell_type": "code",
   "execution_count": null,
   "metadata": {
    "deletable": false,
    "nbgrader": {
     "cell_type": "code",
     "checksum": "bb0960c919f09c52e6756a9f28af0bc2",
     "grade": false,
     "grade_id": "nested-for-loop",
     "locked": false,
     "schema_version": 3,
     "solution": true,
     "task": false
    }
   },
   "outputs": [],
   "source": [
    "# THIS CELL CAN BE EDITED\n",
    "\n",
    "# YOUR CODE HERE\n",
    "raise NotImplementedError()"
   ]
  },
  {
   "cell_type": "code",
   "execution_count": null,
   "metadata": {
    "deletable": false,
    "editable": false,
    "nbgrader": {
     "cell_type": "code",
     "checksum": "2cb80bcf0caf2916421d91865812f40b",
     "grade": true,
     "grade_id": "nested-for-loop_tests",
     "locked": true,
     "points": 5,
     "schema_version": 3,
     "solution": false,
     "task": false
    }
   },
   "outputs": [],
   "source": [
    "# checks code in previous cell\n",
    "assert len(alphas) == 8\n",
    "assert len(y_q2s)  == 9\n",
    "assert alphas[2]   == 0.8571428571428572\n",
    "assert  y_q2s[2]   == 0.0875\n",
    "assert CLS[2, 5]   ==  0.4144238202\n",
    "assert CDS[5, 7]   == 0.0109779256"
   ]
  },
  {
   "cell_type": "markdown",
   "metadata": {
    "deletable": false,
    "editable": false,
    "nbgrader": {
     "cell_type": "markdown",
     "checksum": "d2f0905cedcea9371be0062e6a7a0c2c",
     "grade": false,
     "grade_id": "cell-268336141c26c82c",
     "locked": true,
     "schema_version": 3,
     "solution": false,
     "task": false
    }
   },
   "source": [
    "OK, now we plot the result, using the `contourf` and `contour` functions we used in Lab 4. No need to add any code here. Just make sure you understand the code and look carefully at the plots."
   ]
  },
  {
   "cell_type": "code",
   "execution_count": null,
   "metadata": {
    "deletable": false,
    "editable": false,
    "nbgrader": {
     "cell_type": "code",
     "checksum": "591da1f856d63599a851dc73ee6caf48",
     "grade": false,
     "grade_id": "cell-f5af4d7d77005c68",
     "locked": true,
     "schema_version": 3,
     "solution": false,
     "task": false
    }
   },
   "outputs": [],
   "source": [
    "# create figure\n",
    "plt.figure(1, figsize=(12, 4))\n",
    "\n",
    "# adjust space between subplots\n",
    "plt.subplots_adjust(wspace=0.3)\n",
    "\n",
    "## make first subplot\n",
    "plt.subplot(121)\n",
    "\n",
    "# plot 30 filled contours of the lift coefficient\n",
    "plt.contourf(y_q2s, alphas, CLS, 30, cmap=\"Reds\")\n",
    "plt.colorbar(label=\"$C_l$\", ticks=[-0.3, 0, 0.3, 0.6, 0.9, 1.2])\n",
    "\n",
    "# add black contours at Cl = Cl_star for the front and rear wings\n",
    "lab = plt.contour(y_q2s, alphas, CLS, [0.52, 0.99], colors=\"k\")\n",
    "plt.clabel(lab, fmt=\"$C_l^* = %.2f$\")\n",
    "\n",
    "# add labels\n",
    "plt.xlabel(\"$y_{\\mathbf{q}_2}$\")\n",
    "plt.ylabel(\"alpha\")\n",
    "\n",
    "\n",
    "## make second subplot\n",
    "plt.subplot(122)\n",
    "plt.contourf(y_q2s, alphas, CDS, 40, cmap=\"gist_earth_r\")\n",
    "plt.colorbar(label=\"$C_d$\", ticks=[0.006, 0.008, 0.010, 0.012, 0.014, 0.016])\n",
    "\n",
    "# add black contours at Cl = Cl_star for the front and rear wings\n",
    "lab = plt.contour(y_q2s, alphas, CLS, [0.52, 0.99], colors=\"k\")\n",
    "plt.clabel(lab, fmt=\"$C_l^* = %.2f$\")\n",
    "\n",
    "# add labels\n",
    "plt.xlabel(\"$y_{\\mathbf{q}_2}$\")\n",
    "plt.ylabel(\"alpha\")"
   ]
  },
  {
   "cell_type": "markdown",
   "metadata": {
    "deletable": false,
    "editable": false,
    "nbgrader": {
     "cell_type": "markdown",
     "checksum": "aabd795ad843ef83fceaa12419d6ca90",
     "grade": false,
     "grade_id": "cell-5ad0e285ca0b2d0f",
     "locked": true,
     "schema_version": 3,
     "solution": false,
     "task": false
    }
   },
   "source": [
    "OK, so we see that the minimum drag would occur for $y_{\\mathbf{q}_2} \\approx 0.1$ and `alpha = 0.5`. However, for these parameter values, the lift would not be high enough for our racecar. \n",
    "\n",
    "I have also added two contour lines for the target lift coefficient $C_l^*$ (0.52 for the front wing and 0.99 for the rear wing).\n",
    "\n",
    "We would like then to find a better combination of these two parameters that satifies the constraint $C_l = C_l^*$ and which minimizes drag. Can you already guess what this should be?"
   ]
  },
  {
   "cell_type": "markdown",
   "metadata": {
    "deletable": false,
    "editable": false,
    "nbgrader": {
     "cell_type": "markdown",
     "checksum": "596a45d5349a730f0edfc46850a388bd",
     "grade": false,
     "grade_id": "cell-a22cc0477b7e44fc",
     "locked": true,
     "schema_version": 3,
     "solution": false,
     "task": false
    }
   },
   "source": [
    "### Task 4 - constrained optimisation - defining the modified objective function"
   ]
  },
  {
   "cell_type": "markdown",
   "metadata": {
    "deletable": false,
    "editable": false,
    "nbgrader": {
     "cell_type": "markdown",
     "checksum": "22e9b473aaca1f38740c1ea02d02a838",
     "grade": false,
     "grade_id": "cell-64a2f84fa252b8ae",
     "locked": true,
     "schema_version": 3,
     "solution": false,
     "task": false
    }
   },
   "source": [
    "To address this task, we are going to use the optimisation tools developed in Lab 4. Formally we want to solve\n",
    "\n",
    "\\begin{equation}\n",
    "    \\begin{aligned}\n",
    "        &\\underset{ y_{\\mathbf{q}_2}, \\alpha }{\\text{min}}&& C_d{(y_{\\mathbf{q}_2}, \\alpha)}\\\\\n",
    "        &\\text{subject to} && C_l{(y_{\\mathbf{q}_2}, \\alpha)} = C_l^* \\\\\n",
    "    \\end{aligned}\n",
    "\\end{equation}\n",
    "\n",
    "\n",
    "We will solve this constrained problem by using the `scipy.optimize` function `minimize`, using the penalty technique to enforce the constraint on the lift coefficient, as in Lab 4."
   ]
  },
  {
   "cell_type": "markdown",
   "metadata": {
    "deletable": false,
    "editable": false,
    "nbgrader": {
     "cell_type": "markdown",
     "checksum": "2393b1b6a774bc642ab18bc1e20c4ac2",
     "grade": false,
     "grade_id": "cell-6cadd37f5ec78625",
     "locked": true,
     "schema_version": 3,
     "solution": false,
     "task": false
    }
   },
   "source": [
    "\n",
    "The first step is to define the function `drag_modified` which takes a two-element 1D array or list containing the co-ordinate `y_q2` and the angle of attack and returns the sum of drag coefficient plus a penalisation terms for the violation of the lift constraint. You should use a penalisation weight $\\gamma = 10$."
   ]
  },
  {
   "cell_type": "code",
   "execution_count": null,
   "metadata": {
    "deletable": false,
    "nbgrader": {
     "cell_type": "code",
     "checksum": "e2957415dd1a1f09a5bea28a5d8f86ea",
     "grade": false,
     "grade_id": "drag_modified",
     "locked": false,
     "schema_version": 3,
     "solution": true,
     "task": false
    }
   },
   "outputs": [],
   "source": [
    "# THIS CELL CAN BE EDITED\n",
    "\n",
    "def drag_modified(params):\n",
    "    \"\"\" \n",
    "    For airfoil geometries obtained with the `parametric_airfoil_2` function \n",
    "    defined above, return the sum of drag coefficient plus a penalisation term \n",
    "    for the violation of the lift constraint `cl = cl_star`, where `cl_star` is \n",
    "    a global variable defined at the beginning of the notebook.\n",
    "    \n",
    "    The input argument `params` is a two-element array or list containing \n",
    "    the co-ordinate `y` for control point q_2 and the angle of attack `alpha`.\n",
    "    \n",
    "    A penalisation weight $\\gamma = 10$ must be used.\n",
    "    \"\"\"\n",
    "    \n",
    "    # YOUR CODE HERE\n",
    "    raise NotImplementedError()\n",
    "    \n",
    "    return J"
   ]
  },
  {
   "cell_type": "markdown",
   "metadata": {},
   "source": [
    "OK, run the tests below to check your implementation."
   ]
  },
  {
   "cell_type": "code",
   "execution_count": null,
   "metadata": {
    "deletable": false,
    "editable": false,
    "nbgrader": {
     "cell_type": "code",
     "checksum": "e532b961de3f7350c3517f512ec8ff1c",
     "grade": true,
     "grade_id": "drag_modified_test",
     "locked": true,
     "points": 2,
     "schema_version": 3,
     "solution": false,
     "task": false
    }
   },
   "outputs": [],
   "source": [
    "# checks \n",
    "if cl_star == 0.52:\n",
    "    assert drag_modified([0.0, 0.1]) == 4.2342601502503765\n",
    "else:\n",
    "    assert drag_modified([0.0, 0.1]) == 12.555446030010376"
   ]
  },
  {
   "cell_type": "markdown",
   "metadata": {
    "deletable": false,
    "editable": false,
    "nbgrader": {
     "cell_type": "markdown",
     "checksum": "70fdbb31b079efb21ea1ae12b857cc36",
     "grade": false,
     "grade_id": "cell-6ec0da11fb677c05",
     "locked": true,
     "schema_version": 3,
     "solution": false,
     "task": false
    }
   },
   "source": [
    "### Task 5 - constrained optimisation - running the optimizer"
   ]
  },
  {
   "cell_type": "markdown",
   "metadata": {
    "deletable": false,
    "editable": false,
    "nbgrader": {
     "cell_type": "markdown",
     "checksum": "27f5cdf56808be159cc9a783b6ae87bd",
     "grade": false,
     "grade_id": "cell-c90dceb923c18af5",
     "locked": true,
     "schema_version": 3,
     "solution": false,
     "task": false
    }
   },
   "source": [
    "In this last task, we will run the `Nelder-Mead` optimizer using the modified drag function defined above, with tolerance `tol=1e-4`. This is one of the most challenging tasks, so it fine if this will take you a bit of time. Check what we did in Lab 4, then come back here. This step will give us an airfoil that can compete well around the Highfield street circuit.\n",
    "\n",
    "We first import the required module."
   ]
  },
  {
   "cell_type": "code",
   "execution_count": null,
   "metadata": {
    "deletable": false,
    "editable": false,
    "nbgrader": {
     "cell_type": "code",
     "checksum": "7203f5acbe549d26c5675ba730628bda",
     "grade": false,
     "grade_id": "cell-bd7b261bc431c708",
     "locked": true,
     "schema_version": 3,
     "solution": false,
     "task": false
    }
   },
   "outputs": [],
   "source": [
    "from scipy.optimize import minimize"
   ]
  },
  {
   "cell_type": "markdown",
   "metadata": {
    "deletable": false,
    "editable": false,
    "nbgrader": {
     "cell_type": "markdown",
     "checksum": "2dfb1c658ffdf83609fb380d735d26dd",
     "grade": false,
     "grade_id": "cell-f06f559b54c26413",
     "locked": true,
     "schema_version": 3,
     "solution": false,
     "task": false
    }
   },
   "source": [
    "We then define a suitable initial guess `params_guess` for the angle of attack and the co-ordinate $y_{\\mathbf{q}_2}$, based on the contour plots. This is already close to the optimum, and we'll use the optimiser to refine the value."
   ]
  },
  {
   "cell_type": "code",
   "execution_count": null,
   "metadata": {
    "deletable": false,
    "editable": false,
    "nbgrader": {
     "cell_type": "code",
     "checksum": "114e002d14d55795a0526839278fbed0",
     "grade": false,
     "grade_id": "cell-1f60a99305c066c0",
     "locked": true,
     "schema_version": 3,
     "solution": false,
     "task": false
    }
   },
   "outputs": [],
   "source": [
    "if cl_star == 0.52:\n",
    "    params_guess = [0.20, 3]\n",
    "else:\n",
    "    params_guess = [0.22, 6]"
   ]
  },
  {
   "cell_type": "markdown",
   "metadata": {
    "deletable": false,
    "editable": false,
    "nbgrader": {
     "cell_type": "markdown",
     "checksum": "89d498448a0f80f9047cfa30bf851962",
     "grade": false,
     "grade_id": "cell-f06f559b54c26403",
     "locked": true,
     "schema_version": 3,
     "solution": false,
     "task": false
    }
   },
   "source": [
    "In the cells below, you will have to write code to call the optimizer with `drag_modified`. You should store the output of the function `minimize` into a variable `out`, for the checks below to work."
   ]
  },
  {
   "cell_type": "code",
   "execution_count": null,
   "metadata": {
    "deletable": false,
    "nbgrader": {
     "cell_type": "code",
     "checksum": "21c8bf908c1e1c3796135192aba7e770",
     "grade": false,
     "grade_id": "optimizer",
     "locked": false,
     "schema_version": 3,
     "solution": true,
     "task": false
    }
   },
   "outputs": [],
   "source": [
    "# THIS CELL CAN BE EDITED\n",
    "\n",
    "# YOUR CODE HERE\n",
    "raise NotImplementedError()"
   ]
  },
  {
   "cell_type": "markdown",
   "metadata": {
    "deletable": false,
    "editable": false,
    "nbgrader": {
     "cell_type": "markdown",
     "checksum": "fb8a082312ab0c21aa6026df79510f89",
     "grade": false,
     "grade_id": "cell-5ac2454b57220753",
     "locked": true,
     "schema_version": 3,
     "solution": false,
     "task": false
    }
   },
   "source": [
    "OK, let's check the output first and we then run some tests to check your implementation is correct. Note that the variable `out.x` will contain the optimal co-ordinate $y_{\\mathbf{q}_2}$ and the optimal angle of attack."
   ]
  },
  {
   "cell_type": "code",
   "execution_count": null,
   "metadata": {
    "deletable": false,
    "editable": false,
    "nbgrader": {
     "cell_type": "code",
     "checksum": "80ac21f2d357c9b75f7652ae1ef1050f",
     "grade": false,
     "grade_id": "cell-e4a29a0ccdbd318c",
     "locked": true,
     "schema_version": 3,
     "solution": false,
     "task": false
    }
   },
   "outputs": [],
   "source": [
    "print(out)"
   ]
  },
  {
   "cell_type": "code",
   "execution_count": null,
   "metadata": {
    "deletable": false,
    "editable": false,
    "nbgrader": {
     "cell_type": "code",
     "checksum": "badb5fa94b8df68393d81ff8888fe31f",
     "grade": true,
     "grade_id": "optimizer_test",
     "locked": true,
     "points": 4,
     "schema_version": 3,
     "solution": false,
     "task": false
    }
   },
   "outputs": [],
   "source": [
    "# check solution of optimisation problem\n",
    "assert (out.x[0] >  0.00) and (out.x[0] < 0.35)\n",
    "assert (out.x[1] > -2.00) and (out.x[1] < 8.00)"
   ]
  },
  {
   "cell_type": "markdown",
   "metadata": {
    "deletable": false,
    "editable": false,
    "nbgrader": {
     "cell_type": "markdown",
     "checksum": "cddf4096169b1e26ae81b0497d4f04d1",
     "grade": false,
     "grade_id": "cell-3f6072a9fd7938cc",
     "locked": true,
     "schema_version": 3,
     "solution": false,
     "task": false
    }
   },
   "source": [
    "OK, we now plot the result of the optimisation, with a red star to denote the optimum. We also save a figure with filename `optfoil.png` in the current directory."
   ]
  },
  {
   "cell_type": "code",
   "execution_count": null,
   "metadata": {
    "deletable": false,
    "editable": false,
    "nbgrader": {
     "cell_type": "code",
     "checksum": "076151ee2a5ce8199ff23d1293e22f50",
     "grade": false,
     "grade_id": "cell-01bf47cb045a6f99",
     "locked": true,
     "schema_version": 3,
     "solution": false,
     "task": false
    }
   },
   "outputs": [],
   "source": [
    "# create figure\n",
    "plt.figure(1, figsize=(12, 4))\n",
    "\n",
    "# adjust space between subplots\n",
    "plt.subplots_adjust(wspace=0.3)\n",
    "\n",
    "## make first subplot\n",
    "plt.subplot(121)\n",
    "\n",
    "# plot 30 filled contours of the lift coefficient\n",
    "plt.contourf(y_q2s, alphas, CLS, 30, cmap=\"Reds\")\n",
    "plt.colorbar(label=\"$C_l$\", ticks=[-0.3, 0, 0.3, 0.6, 0.9, 1.2])\n",
    "\n",
    "# add black contours at Cl = Cl_star for the front and rear wings\n",
    "lab = plt.contour(y_q2s, alphas, CLS, [0.52, 0.99], colors=\"k\")\n",
    "plt.clabel(lab, fmt=\"$C_l^* = %.2f$\")\n",
    "\n",
    "# add labels\n",
    "plt.xlabel(\"$y_{\\mathbf{q}_2}$\")\n",
    "plt.ylabel(\"alpha\")\n",
    "\n",
    "\n",
    "## make second subplot\n",
    "plt.subplot(122)\n",
    "plt.contourf(y_q2s, alphas, CDS, 40, cmap=\"gist_earth_r\")\n",
    "plt.colorbar(label=\"$C_d$\", ticks=[0.006, 0.008, 0.010, 0.012, 0.014, 0.016])\n",
    "\n",
    "# add black contours at Cl = Cl_star for the front and rear wings\n",
    "lab = plt.contour(y_q2s, alphas, CLS, [0.52, 0.99], colors=\"k\")\n",
    "plt.clabel(lab, fmt=\"$C_l^* = %.2f$\")\n",
    "\n",
    "# add labels\n",
    "plt.xlabel(\"$y_{\\mathbf{q}_2}$\")\n",
    "plt.ylabel(\"alpha\")\n",
    "\n",
    "# plot optimum point with a red star\n",
    "plt.plot(out.x[0], out.x[1], \"r*\", ms=20)\n",
    "\n",
    "# save figure\n",
    "plt.savefig(\"optfoil.png\", dpi=600)"
   ]
  },
  {
   "cell_type": "markdown",
   "metadata": {
    "deletable": false,
    "editable": false,
    "nbgrader": {
     "cell_type": "markdown",
     "checksum": "75083336dab1bcab464ae11d7dca325c",
     "grade": false,
     "grade_id": "cell-c0d72084cd05f0bc",
     "locked": true,
     "schema_version": 3,
     "solution": false,
     "task": false
    }
   },
   "source": [
    "OK. With this notebook you have now designed an optimal airfoil geometry for your racecar wing and found the optimal angle of attack. \n",
    "\n",
    "You can now use these results and bring your design to a further stage of the design process."
   ]
  },
  {
   "cell_type": "markdown",
   "metadata": {
    "deletable": false,
    "editable": false,
    "nbgrader": {
     "cell_type": "markdown",
     "checksum": "2469c3eb6b2a9db73d2f6309ef33f2e3",
     "grade": false,
     "grade_id": "cell-d3c5afe9ac0b21dd",
     "locked": true,
     "schema_version": 3,
     "solution": false,
     "task": false
    }
   },
   "source": [
    "__NOTE: Restart the kernel and run all (click \"Kernel\", \"Restart & Run All\"), to make sure everything is working correctly before submitting this .ipynb file via Blackboard.__"
   ]
  }
 ],
 "metadata": {
  "@webio": {
   "lastCommId": null,
   "lastKernelId": null
  },
  "kernelspec": {
   "display_name": "Python 3 (ipykernel)",
   "language": "python",
   "name": "python3"
  },
  "language_info": {
   "codemirror_mode": {
    "name": "ipython",
    "version": 3
   },
   "file_extension": ".py",
   "mimetype": "text/x-python",
   "name": "python",
   "nbconvert_exporter": "python",
   "pygments_lexer": "ipython3",
   "version": "3.8.12"
  }
 },
 "nbformat": 4,
 "nbformat_minor": 4
}
